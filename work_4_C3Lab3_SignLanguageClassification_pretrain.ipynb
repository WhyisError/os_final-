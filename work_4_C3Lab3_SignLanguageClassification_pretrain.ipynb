{
  "nbformat": 4,
  "nbformat_minor": 0,
  "metadata": {
    "colab": {
      "name": "work_4_C3Lab3-SignLanguageClassification_pretrain.ipynb",
      "provenance": [],
      "collapsed_sections": []
    },
    "kernelspec": {
      "name": "python3",
      "display_name": "Python 3"
    },
    "language_info": {
      "name": "python"
    }
  },
  "cells": [
    {
      "cell_type": "markdown",
      "metadata": {
        "id": "uKhQ0swdW5ej"
      },
      "source": [
        "### รหัส\n",
        "### ชื่อ-นามสกุล\n",
        "### กลุ่ม"
      ]
    },
    {
      "cell_type": "markdown",
      "metadata": {
        "id": "vi9kt57PTP3Z"
      },
      "source": [
        "### จุดประสงค์\n",
        "1. เพื่อเข้าใจการเตรียมข้อมูลสำหรับการพยากรณ์รูปภาพ C2-Lab1\n",
        "2. เพื่อเข้าใจและประยุกต์ใช้การพยากรณ์รูปภาพเบื้องต้น สำหรับการจำแนกภาษามือ \n",
        "3. เพื่อเข้าใจการเขียนโปรแกรมโดยใช้ Pre-train\n",
        "\n",
        "### ขั้นตอนการทำงาน\n",
        "1. ทำการเตรียมข้อมูลสำหรับ Model ตามวีธีการใน C2-Lab1 (ระดับ 5 คะแนน)\n",
        "  - ทำการสร้าง Directory ชื่อว่า SignLanguage \n",
        "  - ทำการจัดเตรียมข้อมูลวีดีโอ จำนวน 10 วีดีโอ\n",
        "  - สร้างไดเร็คทรอรีเป็นชื่อคำ ภายในไดเร็คทรอรี SignLanguage ตัวอย่างเช่น /SignLanguage/goodbye สำหรับจัดเก็บเฟรมของวีดีโอทั้ง 10 วีดีโอ\n",
        "2. ทำการสร้าง Model สำหรับการจำแนกภาษามือ (ระดับ 10 คะแนน) โดยแบ่งข้อมูลออกเป็น 3 ส่วน ประกอบด้วย\n",
        "- ข้อมูลการฝึกอบรม (80%)\n",
        "- ข้อมูลการตรวจสอบ (10%)\n",
        "- ข้อมูลการทดสอบ (10%)\n",
        "\n",
        "3. ทำการสร้างโมเดลโดยใช้ pre-train (15 คะแนน)"
      ]
    },
    {
      "cell_type": "code",
      "metadata": {
        "id": "FO8aFys1TOa1"
      },
      "source": [
        ""
      ],
      "execution_count": null,
      "outputs": []
    }
  ]
}